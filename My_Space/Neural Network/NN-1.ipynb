{
 "cells": [
  {
   "cell_type": "code",
   "execution_count": 1,
   "metadata": {},
   "outputs": [],
   "source": [
    "import numpy as np"
   ]
  },
  {
   "cell_type": "code",
   "execution_count": 2,
   "metadata": {},
   "outputs": [],
   "source": [
    "#Activation Functions\n",
    "def tanh(x):\n",
    "    return np.tanh(x)\n",
    "\n",
    "def d_tanh(x):\n",
    "    return 1-np.square(np.tanh(x))\n",
    "\n",
    "def sigmoid(x):\n",
    "    return 1/(1+np.exp(-x))\n",
    "\n",
    "def d_sigmoid(x):\n",
    "    return (1-sigmoid(x)*sigmoid(x))"
   ]
  },
  {
   "cell_type": "code",
   "execution_count": 3,
   "metadata": {},
   "outputs": [],
   "source": [
    "#Loss Function\n",
    "\n",
    "def logloss(y,a):\n",
    "    return -(y*np.log(a)+(1-y)*np.log(1-a))\n",
    "\n",
    "def d_logloss(y,a):\n",
    "    return (a-y)/(a*(1-a))"
   ]
  },
  {
   "cell_type": "code",
   "execution_count": null,
   "metadata": {},
   "outputs": [],
   "source": [
    "class Layer:\n",
    "    \n",
    "    activationFunctions = {\n",
    "        'tanh':(tanh,d_tanh),\n",
    "        'sigmoid':(sigmoid,d_sigmoid)\n",
    "    }\n",
    "    \n",
    "    def __init__(self,inputs , neuron , activation):\n",
    "        self.W = np.random.randn(neuron , inputs)\n",
    "        self.b = np.zeros((neuron,1))\n",
    "        self.act,self.d_act =  activationFunctions.get(activation)"
   ]
  }
 ],
 "metadata": {
  "kernelspec": {
   "display_name": "Python 3",
   "language": "python",
   "name": "python3"
  },
  "language_info": {
   "codemirror_mode": {
    "name": "ipython",
    "version": 3
   },
   "file_extension": ".py",
   "mimetype": "text/x-python",
   "name": "python",
   "nbconvert_exporter": "python",
   "pygments_lexer": "ipython3",
   "version": "3.7.7"
  }
 },
 "nbformat": 4,
 "nbformat_minor": 4
}
